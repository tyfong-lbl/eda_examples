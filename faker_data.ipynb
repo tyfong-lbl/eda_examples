{
  "nbformat": 4,
  "nbformat_minor": 0,
  "metadata": {
    "colab": {
      "provenance": []
    },
    "kernelspec": {
      "name": "python3",
      "display_name": "Python 3"
    },
    "language_info": {
      "name": "python"
    }
  },
  "cells": [
    {
      "cell_type": "code",
      "source": [
        "\n",
        "!pip install Faker"
      ],
      "metadata": {
        "colab": {
          "base_uri": "https://localhost:8080/"
        },
        "id": "VMP10gzLp2MB",
        "outputId": "c3b9888c-7fbf-45fc-ef3b-f80bfc461a28"
      },
      "execution_count": null,
      "outputs": [
        {
          "output_type": "stream",
          "name": "stdout",
          "text": [
            "Looking in indexes: https://pypi.org/simple, https://us-python.pkg.dev/colab-wheels/public/simple/\n",
            "Collecting Faker\n",
            "  Downloading Faker-18.3.1-py3-none-any.whl (1.7 MB)\n",
            "\u001b[2K     \u001b[90m━━━━━━━━━━━━━━━━━━━━━━━━━━━━━━━━━━━━━━━━\u001b[0m \u001b[32m1.7/1.7 MB\u001b[0m \u001b[31m15.8 MB/s\u001b[0m eta \u001b[36m0:00:00\u001b[0m\n",
            "\u001b[?25hRequirement already satisfied: python-dateutil>=2.4 in /usr/local/lib/python3.9/dist-packages (from Faker) (2.8.2)\n",
            "Requirement already satisfied: six>=1.5 in /usr/local/lib/python3.9/dist-packages (from python-dateutil>=2.4->Faker) (1.16.0)\n",
            "Installing collected packages: Faker\n",
            "Successfully installed Faker-18.3.1\n"
          ]
        }
      ]
    },
    {
      "cell_type": "markdown",
      "source": [
        "The purpose of this Notebook is to create the fake data for\n"
      ],
      "metadata": {
        "id": "qDs-t-6N489f"
      }
    },
    {
      "cell_type": "code",
      "execution_count": null,
      "metadata": {
        "id": "VxDL6npEpq8R"
      },
      "outputs": [],
      "source": [
        "import numpy as np\n",
        "import pandas as pd\n",
        "import string\n",
        "import random\n",
        "\n",
        "from faker import Faker\n",
        "from google.colab import drive\n",
        "from pathlib import Path\n"
      ]
    },
    {
      "cell_type": "code",
      "source": [
        "\n",
        "fake = Faker()\n",
        "Faker.seed(0)"
      ],
      "metadata": {
        "id": "8vvaxhhvsWGU"
      },
      "execution_count": null,
      "outputs": []
    },
    {
      "cell_type": "code",
      "source": [
        "\n",
        "# Have a list of cities\n",
        "\n",
        "# Dates should be from 2020-2021 some percentage should be just wrong\n",
        "  # In the future\n",
        "  # Far distant past\n",
        "  # Nonsensical, i.e. 2020-14-12, or containing numbers\n",
        "\n",
        "\n",
        "\n",
        "# Temps should be celsisus (converted from F readings) -- but some percentage should be unconverted\n"
      ],
      "metadata": {
        "id": "3zgT9pamtPOz"
      },
      "execution_count": null,
      "outputs": []
    },
    {
      "cell_type": "code",
      "source": [
        "\n",
        "res = [random.randrange(0,100,1) for i in range(100)]"
      ],
      "metadata": {
        "id": "R0lyVuAX9muZ"
      },
      "execution_count": null,
      "outputs": []
    },
    {
      "cell_type": "code",
      "source": [
        "df = pd.DataFrame(np.array(res),columns=['randint'])\n",
        "df.describe()\n"
      ],
      "metadata": {
        "colab": {
          "base_uri": "https://localhost:8080/",
          "height": 300
        },
        "id": "0-RlVXr1-EPN",
        "outputId": "baec34a7-d297-4fed-b54d-d961305df7a5"
      },
      "execution_count": null,
      "outputs": [
        {
          "output_type": "execute_result",
          "data": {
            "text/plain": [
              "          randint\n",
              "count  100.000000\n",
              "mean    48.380000\n",
              "std     29.520676\n",
              "min      0.000000\n",
              "25%     25.750000\n",
              "50%     48.000000\n",
              "75%     76.000000\n",
              "max     98.000000"
            ],
            "text/html": [
              "\n",
              "  <div id=\"df-14713b0e-8d51-49b5-bd8c-ce759eb0b045\">\n",
              "    <div class=\"colab-df-container\">\n",
              "      <div>\n",
              "<style scoped>\n",
              "    .dataframe tbody tr th:only-of-type {\n",
              "        vertical-align: middle;\n",
              "    }\n",
              "\n",
              "    .dataframe tbody tr th {\n",
              "        vertical-align: top;\n",
              "    }\n",
              "\n",
              "    .dataframe thead th {\n",
              "        text-align: right;\n",
              "    }\n",
              "</style>\n",
              "<table border=\"1\" class=\"dataframe\">\n",
              "  <thead>\n",
              "    <tr style=\"text-align: right;\">\n",
              "      <th></th>\n",
              "      <th>randint</th>\n",
              "    </tr>\n",
              "  </thead>\n",
              "  <tbody>\n",
              "    <tr>\n",
              "      <th>count</th>\n",
              "      <td>100.000000</td>\n",
              "    </tr>\n",
              "    <tr>\n",
              "      <th>mean</th>\n",
              "      <td>48.380000</td>\n",
              "    </tr>\n",
              "    <tr>\n",
              "      <th>std</th>\n",
              "      <td>29.520676</td>\n",
              "    </tr>\n",
              "    <tr>\n",
              "      <th>min</th>\n",
              "      <td>0.000000</td>\n",
              "    </tr>\n",
              "    <tr>\n",
              "      <th>25%</th>\n",
              "      <td>25.750000</td>\n",
              "    </tr>\n",
              "    <tr>\n",
              "      <th>50%</th>\n",
              "      <td>48.000000</td>\n",
              "    </tr>\n",
              "    <tr>\n",
              "      <th>75%</th>\n",
              "      <td>76.000000</td>\n",
              "    </tr>\n",
              "    <tr>\n",
              "      <th>max</th>\n",
              "      <td>98.000000</td>\n",
              "    </tr>\n",
              "  </tbody>\n",
              "</table>\n",
              "</div>\n",
              "      <button class=\"colab-df-convert\" onclick=\"convertToInteractive('df-14713b0e-8d51-49b5-bd8c-ce759eb0b045')\"\n",
              "              title=\"Convert this dataframe to an interactive table.\"\n",
              "              style=\"display:none;\">\n",
              "        \n",
              "  <svg xmlns=\"http://www.w3.org/2000/svg\" height=\"24px\"viewBox=\"0 0 24 24\"\n",
              "       width=\"24px\">\n",
              "    <path d=\"M0 0h24v24H0V0z\" fill=\"none\"/>\n",
              "    <path d=\"M18.56 5.44l.94 2.06.94-2.06 2.06-.94-2.06-.94-.94-2.06-.94 2.06-2.06.94zm-11 1L8.5 8.5l.94-2.06 2.06-.94-2.06-.94L8.5 2.5l-.94 2.06-2.06.94zm10 10l.94 2.06.94-2.06 2.06-.94-2.06-.94-.94-2.06-.94 2.06-2.06.94z\"/><path d=\"M17.41 7.96l-1.37-1.37c-.4-.4-.92-.59-1.43-.59-.52 0-1.04.2-1.43.59L10.3 9.45l-7.72 7.72c-.78.78-.78 2.05 0 2.83L4 21.41c.39.39.9.59 1.41.59.51 0 1.02-.2 1.41-.59l7.78-7.78 2.81-2.81c.8-.78.8-2.07 0-2.86zM5.41 20L4 18.59l7.72-7.72 1.47 1.35L5.41 20z\"/>\n",
              "  </svg>\n",
              "      </button>\n",
              "      \n",
              "  <style>\n",
              "    .colab-df-container {\n",
              "      display:flex;\n",
              "      flex-wrap:wrap;\n",
              "      gap: 12px;\n",
              "    }\n",
              "\n",
              "    .colab-df-convert {\n",
              "      background-color: #E8F0FE;\n",
              "      border: none;\n",
              "      border-radius: 50%;\n",
              "      cursor: pointer;\n",
              "      display: none;\n",
              "      fill: #1967D2;\n",
              "      height: 32px;\n",
              "      padding: 0 0 0 0;\n",
              "      width: 32px;\n",
              "    }\n",
              "\n",
              "    .colab-df-convert:hover {\n",
              "      background-color: #E2EBFA;\n",
              "      box-shadow: 0px 1px 2px rgba(60, 64, 67, 0.3), 0px 1px 3px 1px rgba(60, 64, 67, 0.15);\n",
              "      fill: #174EA6;\n",
              "    }\n",
              "\n",
              "    [theme=dark] .colab-df-convert {\n",
              "      background-color: #3B4455;\n",
              "      fill: #D2E3FC;\n",
              "    }\n",
              "\n",
              "    [theme=dark] .colab-df-convert:hover {\n",
              "      background-color: #434B5C;\n",
              "      box-shadow: 0px 1px 3px 1px rgba(0, 0, 0, 0.15);\n",
              "      filter: drop-shadow(0px 1px 2px rgba(0, 0, 0, 0.3));\n",
              "      fill: #FFFFFF;\n",
              "    }\n",
              "  </style>\n",
              "\n",
              "      <script>\n",
              "        const buttonEl =\n",
              "          document.querySelector('#df-14713b0e-8d51-49b5-bd8c-ce759eb0b045 button.colab-df-convert');\n",
              "        buttonEl.style.display =\n",
              "          google.colab.kernel.accessAllowed ? 'block' : 'none';\n",
              "\n",
              "        async function convertToInteractive(key) {\n",
              "          const element = document.querySelector('#df-14713b0e-8d51-49b5-bd8c-ce759eb0b045');\n",
              "          const dataTable =\n",
              "            await google.colab.kernel.invokeFunction('convertToInteractive',\n",
              "                                                     [key], {});\n",
              "          if (!dataTable) return;\n",
              "\n",
              "          const docLinkHtml = 'Like what you see? Visit the ' +\n",
              "            '<a target=\"_blank\" href=https://colab.research.google.com/notebooks/data_table.ipynb>data table notebook</a>'\n",
              "            + ' to learn more about interactive tables.';\n",
              "          element.innerHTML = '';\n",
              "          dataTable['output_type'] = 'display_data';\n",
              "          await google.colab.output.renderOutput(dataTable, element);\n",
              "          const docLink = document.createElement('div');\n",
              "          docLink.innerHTML = docLinkHtml;\n",
              "          element.appendChild(docLink);\n",
              "        }\n",
              "      </script>\n",
              "    </div>\n",
              "  </div>\n",
              "  "
            ]
          },
          "metadata": {},
          "execution_count": 6
        }
      ]
    },
    {
      "cell_type": "code",
      "source": [
        "\n",
        "df.head()"
      ],
      "metadata": {
        "colab": {
          "base_uri": "https://localhost:8080/",
          "height": 206
        },
        "id": "5DStZ8r2g945",
        "outputId": "17a7f01f-5d01-4772-feba-b711163a7954"
      },
      "execution_count": null,
      "outputs": [
        {
          "output_type": "execute_result",
          "data": {
            "text/plain": [
              "   randint\n",
              "0       28\n",
              "1        8\n",
              "2       28\n",
              "3       45\n",
              "4       65"
            ],
            "text/html": [
              "\n",
              "  <div id=\"df-5ba1a2d1-6f32-442d-ae8e-fffcf626dcfd\">\n",
              "    <div class=\"colab-df-container\">\n",
              "      <div>\n",
              "<style scoped>\n",
              "    .dataframe tbody tr th:only-of-type {\n",
              "        vertical-align: middle;\n",
              "    }\n",
              "\n",
              "    .dataframe tbody tr th {\n",
              "        vertical-align: top;\n",
              "    }\n",
              "\n",
              "    .dataframe thead th {\n",
              "        text-align: right;\n",
              "    }\n",
              "</style>\n",
              "<table border=\"1\" class=\"dataframe\">\n",
              "  <thead>\n",
              "    <tr style=\"text-align: right;\">\n",
              "      <th></th>\n",
              "      <th>randint</th>\n",
              "    </tr>\n",
              "  </thead>\n",
              "  <tbody>\n",
              "    <tr>\n",
              "      <th>0</th>\n",
              "      <td>28</td>\n",
              "    </tr>\n",
              "    <tr>\n",
              "      <th>1</th>\n",
              "      <td>8</td>\n",
              "    </tr>\n",
              "    <tr>\n",
              "      <th>2</th>\n",
              "      <td>28</td>\n",
              "    </tr>\n",
              "    <tr>\n",
              "      <th>3</th>\n",
              "      <td>45</td>\n",
              "    </tr>\n",
              "    <tr>\n",
              "      <th>4</th>\n",
              "      <td>65</td>\n",
              "    </tr>\n",
              "  </tbody>\n",
              "</table>\n",
              "</div>\n",
              "      <button class=\"colab-df-convert\" onclick=\"convertToInteractive('df-5ba1a2d1-6f32-442d-ae8e-fffcf626dcfd')\"\n",
              "              title=\"Convert this dataframe to an interactive table.\"\n",
              "              style=\"display:none;\">\n",
              "        \n",
              "  <svg xmlns=\"http://www.w3.org/2000/svg\" height=\"24px\"viewBox=\"0 0 24 24\"\n",
              "       width=\"24px\">\n",
              "    <path d=\"M0 0h24v24H0V0z\" fill=\"none\"/>\n",
              "    <path d=\"M18.56 5.44l.94 2.06.94-2.06 2.06-.94-2.06-.94-.94-2.06-.94 2.06-2.06.94zm-11 1L8.5 8.5l.94-2.06 2.06-.94-2.06-.94L8.5 2.5l-.94 2.06-2.06.94zm10 10l.94 2.06.94-2.06 2.06-.94-2.06-.94-.94-2.06-.94 2.06-2.06.94z\"/><path d=\"M17.41 7.96l-1.37-1.37c-.4-.4-.92-.59-1.43-.59-.52 0-1.04.2-1.43.59L10.3 9.45l-7.72 7.72c-.78.78-.78 2.05 0 2.83L4 21.41c.39.39.9.59 1.41.59.51 0 1.02-.2 1.41-.59l7.78-7.78 2.81-2.81c.8-.78.8-2.07 0-2.86zM5.41 20L4 18.59l7.72-7.72 1.47 1.35L5.41 20z\"/>\n",
              "  </svg>\n",
              "      </button>\n",
              "      \n",
              "  <style>\n",
              "    .colab-df-container {\n",
              "      display:flex;\n",
              "      flex-wrap:wrap;\n",
              "      gap: 12px;\n",
              "    }\n",
              "\n",
              "    .colab-df-convert {\n",
              "      background-color: #E8F0FE;\n",
              "      border: none;\n",
              "      border-radius: 50%;\n",
              "      cursor: pointer;\n",
              "      display: none;\n",
              "      fill: #1967D2;\n",
              "      height: 32px;\n",
              "      padding: 0 0 0 0;\n",
              "      width: 32px;\n",
              "    }\n",
              "\n",
              "    .colab-df-convert:hover {\n",
              "      background-color: #E2EBFA;\n",
              "      box-shadow: 0px 1px 2px rgba(60, 64, 67, 0.3), 0px 1px 3px 1px rgba(60, 64, 67, 0.15);\n",
              "      fill: #174EA6;\n",
              "    }\n",
              "\n",
              "    [theme=dark] .colab-df-convert {\n",
              "      background-color: #3B4455;\n",
              "      fill: #D2E3FC;\n",
              "    }\n",
              "\n",
              "    [theme=dark] .colab-df-convert:hover {\n",
              "      background-color: #434B5C;\n",
              "      box-shadow: 0px 1px 3px 1px rgba(0, 0, 0, 0.15);\n",
              "      filter: drop-shadow(0px 1px 2px rgba(0, 0, 0, 0.3));\n",
              "      fill: #FFFFFF;\n",
              "    }\n",
              "  </style>\n",
              "\n",
              "      <script>\n",
              "        const buttonEl =\n",
              "          document.querySelector('#df-5ba1a2d1-6f32-442d-ae8e-fffcf626dcfd button.colab-df-convert');\n",
              "        buttonEl.style.display =\n",
              "          google.colab.kernel.accessAllowed ? 'block' : 'none';\n",
              "\n",
              "        async function convertToInteractive(key) {\n",
              "          const element = document.querySelector('#df-5ba1a2d1-6f32-442d-ae8e-fffcf626dcfd');\n",
              "          const dataTable =\n",
              "            await google.colab.kernel.invokeFunction('convertToInteractive',\n",
              "                                                     [key], {});\n",
              "          if (!dataTable) return;\n",
              "\n",
              "          const docLinkHtml = 'Like what you see? Visit the ' +\n",
              "            '<a target=\"_blank\" href=https://colab.research.google.com/notebooks/data_table.ipynb>data table notebook</a>'\n",
              "            + ' to learn more about interactive tables.';\n",
              "          element.innerHTML = '';\n",
              "          dataTable['output_type'] = 'display_data';\n",
              "          await google.colab.output.renderOutput(dataTable, element);\n",
              "          const docLink = document.createElement('div');\n",
              "          docLink.innerHTML = docLinkHtml;\n",
              "          element.appendChild(docLink);\n",
              "        }\n",
              "      </script>\n",
              "    </div>\n",
              "  </div>\n",
              "  "
            ]
          },
          "metadata": {},
          "execution_count": 7
        }
      ]
    },
    {
      "cell_type": "code",
      "source": [
        "df_s = df.sample(frac=0.1)\n",
        "\n",
        "df = df.drop(df_s.index)\n",
        "df_s.describe()"
      ],
      "metadata": {
        "colab": {
          "base_uri": "https://localhost:8080/",
          "height": 300
        },
        "id": "P58V0XUKhIVD",
        "outputId": "1d330644-0037-4e57-db9e-156f3667ef08"
      },
      "execution_count": null,
      "outputs": [
        {
          "output_type": "execute_result",
          "data": {
            "text/plain": [
              "       randint\n",
              "count  10.0000\n",
              "mean   54.7000\n",
              "std    33.5097\n",
              "min     0.0000\n",
              "25%    32.5000\n",
              "50%    70.5000\n",
              "75%    80.0000\n",
              "max    89.0000"
            ],
            "text/html": [
              "\n",
              "  <div id=\"df-04f0b84b-a496-4878-b258-ac427ec87870\">\n",
              "    <div class=\"colab-df-container\">\n",
              "      <div>\n",
              "<style scoped>\n",
              "    .dataframe tbody tr th:only-of-type {\n",
              "        vertical-align: middle;\n",
              "    }\n",
              "\n",
              "    .dataframe tbody tr th {\n",
              "        vertical-align: top;\n",
              "    }\n",
              "\n",
              "    .dataframe thead th {\n",
              "        text-align: right;\n",
              "    }\n",
              "</style>\n",
              "<table border=\"1\" class=\"dataframe\">\n",
              "  <thead>\n",
              "    <tr style=\"text-align: right;\">\n",
              "      <th></th>\n",
              "      <th>randint</th>\n",
              "    </tr>\n",
              "  </thead>\n",
              "  <tbody>\n",
              "    <tr>\n",
              "      <th>count</th>\n",
              "      <td>10.0000</td>\n",
              "    </tr>\n",
              "    <tr>\n",
              "      <th>mean</th>\n",
              "      <td>54.7000</td>\n",
              "    </tr>\n",
              "    <tr>\n",
              "      <th>std</th>\n",
              "      <td>33.5097</td>\n",
              "    </tr>\n",
              "    <tr>\n",
              "      <th>min</th>\n",
              "      <td>0.0000</td>\n",
              "    </tr>\n",
              "    <tr>\n",
              "      <th>25%</th>\n",
              "      <td>32.5000</td>\n",
              "    </tr>\n",
              "    <tr>\n",
              "      <th>50%</th>\n",
              "      <td>70.5000</td>\n",
              "    </tr>\n",
              "    <tr>\n",
              "      <th>75%</th>\n",
              "      <td>80.0000</td>\n",
              "    </tr>\n",
              "    <tr>\n",
              "      <th>max</th>\n",
              "      <td>89.0000</td>\n",
              "    </tr>\n",
              "  </tbody>\n",
              "</table>\n",
              "</div>\n",
              "      <button class=\"colab-df-convert\" onclick=\"convertToInteractive('df-04f0b84b-a496-4878-b258-ac427ec87870')\"\n",
              "              title=\"Convert this dataframe to an interactive table.\"\n",
              "              style=\"display:none;\">\n",
              "        \n",
              "  <svg xmlns=\"http://www.w3.org/2000/svg\" height=\"24px\"viewBox=\"0 0 24 24\"\n",
              "       width=\"24px\">\n",
              "    <path d=\"M0 0h24v24H0V0z\" fill=\"none\"/>\n",
              "    <path d=\"M18.56 5.44l.94 2.06.94-2.06 2.06-.94-2.06-.94-.94-2.06-.94 2.06-2.06.94zm-11 1L8.5 8.5l.94-2.06 2.06-.94-2.06-.94L8.5 2.5l-.94 2.06-2.06.94zm10 10l.94 2.06.94-2.06 2.06-.94-2.06-.94-.94-2.06-.94 2.06-2.06.94z\"/><path d=\"M17.41 7.96l-1.37-1.37c-.4-.4-.92-.59-1.43-.59-.52 0-1.04.2-1.43.59L10.3 9.45l-7.72 7.72c-.78.78-.78 2.05 0 2.83L4 21.41c.39.39.9.59 1.41.59.51 0 1.02-.2 1.41-.59l7.78-7.78 2.81-2.81c.8-.78.8-2.07 0-2.86zM5.41 20L4 18.59l7.72-7.72 1.47 1.35L5.41 20z\"/>\n",
              "  </svg>\n",
              "      </button>\n",
              "      \n",
              "  <style>\n",
              "    .colab-df-container {\n",
              "      display:flex;\n",
              "      flex-wrap:wrap;\n",
              "      gap: 12px;\n",
              "    }\n",
              "\n",
              "    .colab-df-convert {\n",
              "      background-color: #E8F0FE;\n",
              "      border: none;\n",
              "      border-radius: 50%;\n",
              "      cursor: pointer;\n",
              "      display: none;\n",
              "      fill: #1967D2;\n",
              "      height: 32px;\n",
              "      padding: 0 0 0 0;\n",
              "      width: 32px;\n",
              "    }\n",
              "\n",
              "    .colab-df-convert:hover {\n",
              "      background-color: #E2EBFA;\n",
              "      box-shadow: 0px 1px 2px rgba(60, 64, 67, 0.3), 0px 1px 3px 1px rgba(60, 64, 67, 0.15);\n",
              "      fill: #174EA6;\n",
              "    }\n",
              "\n",
              "    [theme=dark] .colab-df-convert {\n",
              "      background-color: #3B4455;\n",
              "      fill: #D2E3FC;\n",
              "    }\n",
              "\n",
              "    [theme=dark] .colab-df-convert:hover {\n",
              "      background-color: #434B5C;\n",
              "      box-shadow: 0px 1px 3px 1px rgba(0, 0, 0, 0.15);\n",
              "      filter: drop-shadow(0px 1px 2px rgba(0, 0, 0, 0.3));\n",
              "      fill: #FFFFFF;\n",
              "    }\n",
              "  </style>\n",
              "\n",
              "      <script>\n",
              "        const buttonEl =\n",
              "          document.querySelector('#df-04f0b84b-a496-4878-b258-ac427ec87870 button.colab-df-convert');\n",
              "        buttonEl.style.display =\n",
              "          google.colab.kernel.accessAllowed ? 'block' : 'none';\n",
              "\n",
              "        async function convertToInteractive(key) {\n",
              "          const element = document.querySelector('#df-04f0b84b-a496-4878-b258-ac427ec87870');\n",
              "          const dataTable =\n",
              "            await google.colab.kernel.invokeFunction('convertToInteractive',\n",
              "                                                     [key], {});\n",
              "          if (!dataTable) return;\n",
              "\n",
              "          const docLinkHtml = 'Like what you see? Visit the ' +\n",
              "            '<a target=\"_blank\" href=https://colab.research.google.com/notebooks/data_table.ipynb>data table notebook</a>'\n",
              "            + ' to learn more about interactive tables.';\n",
              "          element.innerHTML = '';\n",
              "          dataTable['output_type'] = 'display_data';\n",
              "          await google.colab.output.renderOutput(dataTable, element);\n",
              "          const docLink = document.createElement('div');\n",
              "          docLink.innerHTML = docLinkHtml;\n",
              "          element.appendChild(docLink);\n",
              "        }\n",
              "      </script>\n",
              "    </div>\n",
              "  </div>\n",
              "  "
            ]
          },
          "metadata": {},
          "execution_count": 8
        }
      ]
    },
    {
      "cell_type": "code",
      "source": [
        "choices = ['A','B','C','D']\n",
        "# choice_draws = [random.choices(choices, cum_weights=(25,25,25,25), k=4) for x in range(100000)]\n",
        "choice_draws =[]\n",
        "for i in range(10000):\n",
        "  item  = random.choices(choices, cum_weights=(.5,50,75,100))\n",
        "  choice_draws.append(item)\n",
        "df_choices = pd.DataFrame(choice_draws, columns=['draw'])\n",
        "df_choices.value_counts()"
      ],
      "metadata": {
        "colab": {
          "base_uri": "https://localhost:8080/"
        },
        "id": "7elbI2dWFkxd",
        "outputId": "86cc28c0-74be-4312-e1c8-2e72e86f967f"
      },
      "execution_count": null,
      "outputs": [
        {
          "output_type": "execute_result",
          "data": {
            "text/plain": [
              "draw\n",
              "B       4965\n",
              "D       2502\n",
              "C       2480\n",
              "A         53\n",
              "dtype: int64"
            ]
          },
          "metadata": {},
          "execution_count": 9
        }
      ]
    },
    {
      "cell_type": "code",
      "source": [
        "(60-32) *5/9"
      ],
      "metadata": {
        "colab": {
          "base_uri": "https://localhost:8080/"
        },
        "id": "2o-VbJlSfiiR",
        "outputId": "25a42a44-584a-4da3-e1e1-f761698a7784"
      },
      "execution_count": null,
      "outputs": [
        {
          "output_type": "execute_result",
          "data": {
            "text/plain": [
              "15.555555555555555"
            ]
          },
          "metadata": {},
          "execution_count": 10
        }
      ]
    },
    {
      "cell_type": "code",
      "source": [
        "cities = ['Berkeley',\n",
        "          'Oakland',\n",
        "          'San Leandro',\n",
        "          'San Francisco',\n",
        "          'Richmond',\n",
        "          'Antioch',\n",
        "          'Albany',\n",
        "          'Novato',\n",
        "          'Morgan Hill',\n",
        "          'San Jose'\n",
        "          ]\n",
        "\n",
        "class GenerateFakes:\n",
        "  def __init__(self,\n",
        "               count,\n",
        "               far_past_weight=1,\n",
        "               past_weight=99,\n",
        "               future_weight=100,\n",
        "               celsius_weight=0.5\n",
        "               ):\n",
        "    self.count = count\n",
        "    self.far_past_weight = far_past_weight\n",
        "    self.past_weight = past_weight\n",
        "    self.future_weight = future_weight\n",
        "    self.celsius_weight = celsius_weight\n",
        "    self.fake = Faker()\n",
        "\n",
        "\n",
        "  def date_selector(self):\n",
        "    # Get the weights of for date errors\n",
        "    all_weights = [self.far_past_weight, self.past_weight, self.future_weight]\n",
        "    weights = (self.far_past_weight, self.past_weight, self.future_weight)\n",
        "    choices = [self.fake.past_date(start_date=\"-200y\"),\n",
        "               self.fake.past_date(start_date=\"-10y\"),\n",
        "               self.fake.future_date()\n",
        "              ]\n",
        "    fake_date = random.choices(choices, cum_weights=weights)\n",
        "    return fake_date\n",
        "\n",
        "\n",
        "  def date_maker(self):\n",
        "    \"\"\"\n",
        "    Set up dates in the far past, recent past, and future\n",
        "    \"\"\"\n",
        "    fake_dates = []\n",
        "    for i in range(self.count):\n",
        "      fake_dates.append(self.date_selector()[0])\n",
        "    return fake_dates\n",
        "\n",
        "  def city_chooser(self, city_list=cities):\n",
        "    fake_cities = []\n",
        "    for i in range(self.count):\n",
        "      city = random.choice(city_list)\n",
        "      fake_cities.append(city)\n",
        "    return fake_cities\n",
        "\n",
        "\n",
        "  # Generate a number around 100 for some of the count\n",
        "  def temp_adder(self,affected=0.04):\n",
        "    choices = [random.expovariate(0.01),0]\n",
        "    temp_changes = []\n",
        "    for i in range(self.count):\n",
        "      temp_changes.append((random.choices(choices,cum_weights=(affected,100-affected))[0]))\n",
        "    return temp_changes\n",
        "\n",
        "  def f_to_c(self, x):\n",
        "     \"\"\"\n",
        "     x is temp in degrees F\n",
        "     \"\"\"\n",
        "     c_temp = (x-32) * 5/9\n",
        "     return c_temp\n",
        "\n",
        "  def dummy_f_to_c(self,x):\n",
        "    return x\n",
        "\n",
        "  # Farenheit to Celsius for a fixed percent\n",
        "  def celsius_maker(self, temps_to_convert):\n",
        "    \"\"\"\n",
        "    Converts a fraction of temps from Farenheit to Celsius\n",
        "    \"\"\"\n",
        "    weights = (self.celsius_weight, 100)\n",
        "    choices = [self.dummy_f_to_c, self.f_to_c]\n",
        "    converted_temps = []\n",
        "    for i in temps_to_convert:\n",
        "      func = random.choices(choices,cum_weights=weights)\n",
        "      converted_temps.append(func[0](i))\n",
        "    return converted_temps\n",
        "\n",
        "\n",
        "  # office building temps\n",
        "  def temperature_maker(self):\n",
        "    \"\"\"\n",
        "    Returns list of temps\n",
        "    \"\"\"\n",
        "    # Get distribution for temps\n",
        "    f_temps = [round(random.normalvariate(mu=68, sigma=3.0),2) for x in range(self.count)]\n",
        "    # Randomly add a number around 100, 0.5 percent of the time\n",
        "    # Convert arrays to numpy\n",
        "    f_temps_np = np.array(f_temps)\n",
        "    temp_adds_np = np.array(self.temp_adder())\n",
        "    # add temperatures\n",
        "    all_f_temps = f_temps_np + temp_adds_np\n",
        "    # Convert almost all to Celsius\n",
        "    # Convert out of np array to regular array\n",
        "    all_f_temps = list(all_f_temps)\n",
        "    all_c_temps = self.celsius_maker(temps_to_convert=all_f_temps)\n",
        "    return all_c_temps\n",
        "\n",
        "\n",
        "\n",
        "class GenerateDataFrame:\n",
        "   def __init__(self,\n",
        "                fraction_to_scramble=None,\n",
        "                **kwargs):\n",
        "     \"\"\"\n",
        "     Pass the functions that generate the dataframe columns\n",
        "     {<column name A>:<function that makes column>, }\n",
        "     \"\"\"\n",
        "     self.__dict__.update(kwargs)\n",
        "     self.fraction_to_scramble = fraction_to_scramble\n",
        "\n",
        "   def randomize_string(self,x):\n",
        "    \"\"\"\n",
        "    Function to randomize a string\n",
        "    \"\"\"\n",
        "    str_x = str(x)\n",
        "    l = list(str_x)\n",
        "    random.shuffle(l)\n",
        "    randomized_string = ''.join(l)\n",
        "    return randomized_string\n",
        "\n",
        "   def make_results(self):\n",
        "     \"\"\"\n",
        "     call all kwarg columns\n",
        "     \"\"\"\n",
        "     output = {}\n",
        "     for col_name, func in self.__dict__.items():\n",
        "       if col_name == 'fraction_to_scramble':\n",
        "        continue\n",
        "       else:\n",
        "        output[col_name] = func()\n",
        "     return output\n",
        "\n",
        "   def generate_raw_df(self):\n",
        "    # Call the column functions\n",
        "    column_data = self.make_results()\n",
        "    df =  pd.DataFrame.from_dict(column_data)\n",
        "    return df\n",
        "\n",
        "   def scrambler(self, df):\n",
        "    \"\"\"\n",
        "    Scramble a sample of the dataframe\n",
        "    \"\"\"\n",
        "    # number_to_scramble = int(len(df) * self.fraction_to_scramble)\n",
        "    # Take a sample from the dataframe without replacement\n",
        "    sample_to_scramble = df.sample(frac=self.fraction_to_scramble)\n",
        "    # drop the items pulled from the sample\n",
        "    df = df.drop(sample_to_scramble.index)\n",
        "    # apply the randomizer\n",
        "    for column in [* sample_to_scramble.columns]:\n",
        "      sample_to_scramble[column] = sample_to_scramble[column].apply(self.randomize_string)\n",
        "    # append the scrambled data to the existing df\n",
        "    output = df.append(sample_to_scramble)\n",
        "    # Output the concatenated dataframe.\n",
        "    return output\n",
        "\n",
        "   def pipeline(self):\n",
        "     df = self.generate_raw_df()\n",
        "     scrambled_df = self.scrambler(df)\n",
        "     output = scrambled_df\n",
        "     return output\n",
        "\n",
        "\n",
        "\n",
        "\n",
        "\n",
        ""
      ],
      "metadata": {
        "id": "NTbzG9-160Jk"
      },
      "execution_count": null,
      "outputs": []
    },
    {
      "cell_type": "code",
      "source": [
        "fakeCols = GenerateFakes(count=10000)\n",
        "# maker_objs = {\"date\": fakeCols.date_maker,\n",
        "#               \"city\": fakeCols.city_chooser,\n",
        "#               \"temp_c\": fakeCols.temperature_maker\n",
        "#               }\n",
        "dfMaker = GenerateDataFrame(fraction_to_scramble=0.01,\n",
        "                            date=fakeCols.date_maker,\n",
        "                            city=fakeCols.city_chooser,\n",
        "                            temp_c=fakeCols.temperature_maker)\n"
      ],
      "metadata": {
        "id": "-fKgRRpDuV7e"
      },
      "execution_count": null,
      "outputs": []
    },
    {
      "cell_type": "code",
      "source": [
        "fake_data = dfMaker.pipeline()"
      ],
      "metadata": {
        "colab": {
          "base_uri": "https://localhost:8080/"
        },
        "id": "rrNWfNgjw2db",
        "outputId": "8a9e46e3-d7f4-4b58-e389-3eee64937de3"
      },
      "execution_count": null,
      "outputs": [
        {
          "output_type": "stream",
          "name": "stderr",
          "text": [
            "<ipython-input-11-14a3f94bdeb5>:163: FutureWarning: The frame.append method is deprecated and will be removed from pandas in a future version. Use pandas.concat instead.\n",
            "  output = df.append(sample_to_scramble)\n"
          ]
        }
      ]
    },
    {
      "cell_type": "code",
      "source": [
        "# Mount Google drive\n",
        "gdrive = \"/content/drive\"\n",
        "drive.mount(gdrive)\n",
        "\n",
        "# Write fake data to an excel file\n",
        "output_file_name = 'temps.xlsx'\n",
        "path = Path(gdrive,'My Drive',output_file_name)\n",
        "fake_data.to_excel(path,\n",
        "                   sheet_name='Building Temps',\n",
        "                   float_format=\"%.2f\")"
      ],
      "metadata": {
        "colab": {
          "base_uri": "https://localhost:8080/"
        },
        "id": "NIo4Epsud7n1",
        "outputId": "b8125c06-e282-4aa1-90b1-2e815e5e8368"
      },
      "execution_count": null,
      "outputs": [
        {
          "output_type": "stream",
          "name": "stdout",
          "text": [
            "Mounted at /content/drive\n"
          ]
        }
      ]
    },
    {
      "cell_type": "code",
      "source": [],
      "metadata": {
        "id": "DHsOEapJz-20"
      },
      "execution_count": null,
      "outputs": []
    },
    {
      "cell_type": "code",
      "source": [],
      "metadata": {
        "id": "cHfnpN7Drz2P"
      },
      "execution_count": null,
      "outputs": []
    },
    {
      "cell_type": "code",
      "source": [],
      "metadata": {
        "id": "dJvexed4jdro"
      },
      "execution_count": null,
      "outputs": []
    },
    {
      "cell_type": "code",
      "source": [],
      "metadata": {
        "id": "PpyoGoqQQ9kk"
      },
      "execution_count": null,
      "outputs": []
    },
    {
      "cell_type": "code",
      "source": [],
      "metadata": {
        "id": "VGa1klCFYNf5"
      },
      "execution_count": null,
      "outputs": []
    },
    {
      "cell_type": "code",
      "source": [],
      "metadata": {
        "id": "7mLeS4uHzBvp"
      },
      "execution_count": null,
      "outputs": []
    }
  ]
}