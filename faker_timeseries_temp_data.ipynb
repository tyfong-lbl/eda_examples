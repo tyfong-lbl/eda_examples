{
 "cells": [
  {
   "cell_type": "markdown",
   "metadata": {
    "id": "qDs-t-6N489f"
   },
   "source": [
    "The purpose of this Notebook is to create the fake data for the `timeseries_data_cleaning` Notebook.\n"
   ]
  },
  {
   "cell_type": "code",
   "execution_count": 1,
   "metadata": {
    "id": "VxDL6npEpq8R"
   },
   "outputs": [],
   "source": [
    "import numpy as np\n",
    "import pandas as pd\n",
    "import string\n",
    "import random\n",
    "\n",
    "from faker import Faker\n",
    "from pathlib import Path\n"
   ]
  },
  {
   "cell_type": "code",
   "execution_count": 2,
   "metadata": {
    "id": "8vvaxhhvsWGU"
   },
   "outputs": [],
   "source": [
    "\n",
    "fake = Faker()\n",
    "fake.seed_instance(1)\n",
    "random.seed(1)"
   ]
  },
  {
   "cell_type": "code",
   "execution_count": 3,
   "metadata": {
    "id": "3zgT9pamtPOz"
   },
   "outputs": [],
   "source": [
    "\n",
    "# Have a list of cities\n",
    "\n",
    "# Dates should be from 2020-2021 some percentage should be just wrong\n",
    "  # In the future\n",
    "  # Far distant past\n",
    "  # Nonsensical, i.e. 2020-14-12, or containing numbers\n",
    "\n",
    "\n",
    "\n",
    "# Temps should be celsisus (converted from F readings) -- but some percentage should be unconverted\n"
   ]
  },
  {
   "cell_type": "code",
   "execution_count": 4,
   "metadata": {
    "id": "R0lyVuAX9muZ"
   },
   "outputs": [],
   "source": [
    "\n",
    "res = [random.randrange(0,100,1) for i in range(100)]"
   ]
  },
  {
   "cell_type": "code",
   "execution_count": 5,
   "metadata": {
    "colab": {
     "base_uri": "https://localhost:8080/",
     "height": 300
    },
    "id": "0-RlVXr1-EPN",
    "outputId": "baec34a7-d297-4fed-b54d-d961305df7a5"
   },
   "outputs": [
    {
     "data": {
      "text/html": [
       "<div>\n",
       "<style scoped>\n",
       "    .dataframe tbody tr th:only-of-type {\n",
       "        vertical-align: middle;\n",
       "    }\n",
       "\n",
       "    .dataframe tbody tr th {\n",
       "        vertical-align: top;\n",
       "    }\n",
       "\n",
       "    .dataframe thead th {\n",
       "        text-align: right;\n",
       "    }\n",
       "</style>\n",
       "<table border=\"1\" class=\"dataframe\">\n",
       "  <thead>\n",
       "    <tr style=\"text-align: right;\">\n",
       "      <th></th>\n",
       "      <th>randint</th>\n",
       "    </tr>\n",
       "  </thead>\n",
       "  <tbody>\n",
       "    <tr>\n",
       "      <th>count</th>\n",
       "      <td>100.000000</td>\n",
       "    </tr>\n",
       "    <tr>\n",
       "      <th>mean</th>\n",
       "      <td>53.810000</td>\n",
       "    </tr>\n",
       "    <tr>\n",
       "      <th>std</th>\n",
       "      <td>30.060779</td>\n",
       "    </tr>\n",
       "    <tr>\n",
       "      <th>min</th>\n",
       "      <td>0.000000</td>\n",
       "    </tr>\n",
       "    <tr>\n",
       "      <th>25%</th>\n",
       "      <td>29.000000</td>\n",
       "    </tr>\n",
       "    <tr>\n",
       "      <th>50%</th>\n",
       "      <td>56.000000</td>\n",
       "    </tr>\n",
       "    <tr>\n",
       "      <th>75%</th>\n",
       "      <td>82.250000</td>\n",
       "    </tr>\n",
       "    <tr>\n",
       "      <th>max</th>\n",
       "      <td>99.000000</td>\n",
       "    </tr>\n",
       "  </tbody>\n",
       "</table>\n",
       "</div>"
      ],
      "text/plain": [
       "          randint\n",
       "count  100.000000\n",
       "mean    53.810000\n",
       "std     30.060779\n",
       "min      0.000000\n",
       "25%     29.000000\n",
       "50%     56.000000\n",
       "75%     82.250000\n",
       "max     99.000000"
      ]
     },
     "execution_count": 5,
     "metadata": {},
     "output_type": "execute_result"
    }
   ],
   "source": [
    "df = pd.DataFrame(np.array(res),columns=['randint'])\n",
    "df.describe()\n"
   ]
  },
  {
   "cell_type": "code",
   "execution_count": 6,
   "metadata": {
    "colab": {
     "base_uri": "https://localhost:8080/",
     "height": 206
    },
    "id": "5DStZ8r2g945",
    "outputId": "17a7f01f-5d01-4772-feba-b711163a7954"
   },
   "outputs": [
    {
     "data": {
      "text/html": [
       "<div>\n",
       "<style scoped>\n",
       "    .dataframe tbody tr th:only-of-type {\n",
       "        vertical-align: middle;\n",
       "    }\n",
       "\n",
       "    .dataframe tbody tr th {\n",
       "        vertical-align: top;\n",
       "    }\n",
       "\n",
       "    .dataframe thead th {\n",
       "        text-align: right;\n",
       "    }\n",
       "</style>\n",
       "<table border=\"1\" class=\"dataframe\">\n",
       "  <thead>\n",
       "    <tr style=\"text-align: right;\">\n",
       "      <th></th>\n",
       "      <th>randint</th>\n",
       "    </tr>\n",
       "  </thead>\n",
       "  <tbody>\n",
       "    <tr>\n",
       "      <th>0</th>\n",
       "      <td>17</td>\n",
       "    </tr>\n",
       "    <tr>\n",
       "      <th>1</th>\n",
       "      <td>72</td>\n",
       "    </tr>\n",
       "    <tr>\n",
       "      <th>2</th>\n",
       "      <td>97</td>\n",
       "    </tr>\n",
       "    <tr>\n",
       "      <th>3</th>\n",
       "      <td>8</td>\n",
       "    </tr>\n",
       "    <tr>\n",
       "      <th>4</th>\n",
       "      <td>32</td>\n",
       "    </tr>\n",
       "  </tbody>\n",
       "</table>\n",
       "</div>"
      ],
      "text/plain": [
       "   randint\n",
       "0       17\n",
       "1       72\n",
       "2       97\n",
       "3        8\n",
       "4       32"
      ]
     },
     "execution_count": 6,
     "metadata": {},
     "output_type": "execute_result"
    }
   ],
   "source": [
    "\n",
    "df.head()"
   ]
  },
  {
   "cell_type": "code",
   "execution_count": 7,
   "metadata": {
    "colab": {
     "base_uri": "https://localhost:8080/",
     "height": 300
    },
    "id": "P58V0XUKhIVD",
    "outputId": "1d330644-0037-4e57-db9e-156f3667ef08"
   },
   "outputs": [
    {
     "data": {
      "text/html": [
       "<div>\n",
       "<style scoped>\n",
       "    .dataframe tbody tr th:only-of-type {\n",
       "        vertical-align: middle;\n",
       "    }\n",
       "\n",
       "    .dataframe tbody tr th {\n",
       "        vertical-align: top;\n",
       "    }\n",
       "\n",
       "    .dataframe thead th {\n",
       "        text-align: right;\n",
       "    }\n",
       "</style>\n",
       "<table border=\"1\" class=\"dataframe\">\n",
       "  <thead>\n",
       "    <tr style=\"text-align: right;\">\n",
       "      <th></th>\n",
       "      <th>randint</th>\n",
       "    </tr>\n",
       "  </thead>\n",
       "  <tbody>\n",
       "    <tr>\n",
       "      <th>count</th>\n",
       "      <td>10.000000</td>\n",
       "    </tr>\n",
       "    <tr>\n",
       "      <th>mean</th>\n",
       "      <td>38.900000</td>\n",
       "    </tr>\n",
       "    <tr>\n",
       "      <th>std</th>\n",
       "      <td>29.553906</td>\n",
       "    </tr>\n",
       "    <tr>\n",
       "      <th>min</th>\n",
       "      <td>1.000000</td>\n",
       "    </tr>\n",
       "    <tr>\n",
       "      <th>25%</th>\n",
       "      <td>17.250000</td>\n",
       "    </tr>\n",
       "    <tr>\n",
       "      <th>50%</th>\n",
       "      <td>37.500000</td>\n",
       "    </tr>\n",
       "    <tr>\n",
       "      <th>75%</th>\n",
       "      <td>55.250000</td>\n",
       "    </tr>\n",
       "    <tr>\n",
       "      <th>max</th>\n",
       "      <td>86.000000</td>\n",
       "    </tr>\n",
       "  </tbody>\n",
       "</table>\n",
       "</div>"
      ],
      "text/plain": [
       "         randint\n",
       "count  10.000000\n",
       "mean   38.900000\n",
       "std    29.553906\n",
       "min     1.000000\n",
       "25%    17.250000\n",
       "50%    37.500000\n",
       "75%    55.250000\n",
       "max    86.000000"
      ]
     },
     "execution_count": 7,
     "metadata": {},
     "output_type": "execute_result"
    }
   ],
   "source": [
    "df_s = df.sample(frac=0.1)\n",
    "\n",
    "df = df.drop(df_s.index)\n",
    "df_s.describe()"
   ]
  },
  {
   "cell_type": "code",
   "execution_count": 8,
   "metadata": {
    "colab": {
     "base_uri": "https://localhost:8080/"
    },
    "id": "7elbI2dWFkxd",
    "outputId": "86cc28c0-74be-4312-e1c8-2e72e86f967f"
   },
   "outputs": [
    {
     "data": {
      "text/plain": [
       "draw\n",
       "B       4964\n",
       "D       2505\n",
       "C       2473\n",
       "A         58\n",
       "dtype: int64"
      ]
     },
     "execution_count": 8,
     "metadata": {},
     "output_type": "execute_result"
    }
   ],
   "source": [
    "choices = ['A','B','C','D']\n",
    "# choice_draws = [random.choices(choices, cum_weights=(25,25,25,25), k=4) for x in range(100000)]\n",
    "choice_draws =[]\n",
    "for i in range(10000):\n",
    "  item  = random.choices(choices, cum_weights=(.5,50,75,100))\n",
    "  choice_draws.append(item)\n",
    "df_choices = pd.DataFrame(choice_draws, columns=['draw'])\n",
    "df_choices.value_counts()"
   ]
  },
  {
   "cell_type": "code",
   "execution_count": 9,
   "metadata": {
    "colab": {
     "base_uri": "https://localhost:8080/"
    },
    "id": "2o-VbJlSfiiR",
    "outputId": "25a42a44-584a-4da3-e1e1-f761698a7784"
   },
   "outputs": [
    {
     "data": {
      "text/plain": [
       "15.555555555555555"
      ]
     },
     "execution_count": 9,
     "metadata": {},
     "output_type": "execute_result"
    }
   ],
   "source": [
    "(60-32) *5/9"
   ]
  },
  {
   "cell_type": "code",
   "execution_count": 10,
   "metadata": {
    "id": "NTbzG9-160Jk"
   },
   "outputs": [],
   "source": [
    "cities = ['Berkeley',\n",
    "          'Oakland',\n",
    "          'San Leandro',\n",
    "          'San Francisco',\n",
    "          'Richmond',\n",
    "          'Antioch',\n",
    "          'Albany',\n",
    "          'Novato',\n",
    "          'Morgan Hill',\n",
    "          'San Jose'\n",
    "          ]\n",
    "\n",
    "class GenerateFakes:\n",
    "  def __init__(self,\n",
    "               count,\n",
    "               far_past_weight=1,\n",
    "               past_weight=99,\n",
    "               future_weight=100,\n",
    "               celsius_weight=0.5\n",
    "               ):\n",
    "    self.count = count\n",
    "    self.far_past_weight = far_past_weight\n",
    "    self.past_weight = past_weight\n",
    "    self.future_weight = future_weight\n",
    "    self.celsius_weight = celsius_weight\n",
    "    self.fake = Faker()\n",
    "\n",
    "\n",
    "  def date_selector(self):\n",
    "    # Get the weights of for date errors\n",
    "    all_weights = [self.far_past_weight, self.past_weight, self.future_weight]\n",
    "    weights = (self.far_past_weight, self.past_weight, self.future_weight)\n",
    "    choices = [self.fake.past_date(start_date=\"-200y\"),\n",
    "               self.fake.past_date(start_date=\"-10y\"),\n",
    "               self.fake.future_date()\n",
    "              ]\n",
    "    fake_date = random.choices(choices, cum_weights=weights)\n",
    "    return fake_date\n",
    "\n",
    "\n",
    "  def date_maker(self):\n",
    "    \"\"\"\n",
    "    Set up dates in the far past, recent past, and future\n",
    "    \"\"\"\n",
    "    fake_dates = []\n",
    "    for i in range(self.count):\n",
    "      fake_dates.append(self.date_selector()[0])\n",
    "    return fake_dates\n",
    "\n",
    "  def city_chooser(self, city_list=cities):\n",
    "    fake_cities = []\n",
    "    for i in range(self.count):\n",
    "      city = random.choice(city_list)\n",
    "      fake_cities.append(city)\n",
    "    return fake_cities\n",
    "\n",
    "\n",
    "  # Generate a number around 100 for some of the count\n",
    "  def temp_adder(self,affected=0.04):\n",
    "    choices = [random.expovariate(0.01),0]\n",
    "    temp_changes = []\n",
    "    for i in range(self.count):\n",
    "      temp_changes.append((random.choices(choices,cum_weights=(affected,100-affected))[0]))\n",
    "    return temp_changes\n",
    "\n",
    "  def f_to_c(self, x):\n",
    "     \"\"\"\n",
    "     x is temp in degrees F\n",
    "     \"\"\"\n",
    "     c_temp = (x-32) * 5/9\n",
    "     return c_temp\n",
    "\n",
    "  def dummy_f_to_c(self,x):\n",
    "    return x\n",
    "\n",
    "  # Farenheit to Celsius for a fixed percent\n",
    "  def celsius_maker(self, temps_to_convert):\n",
    "    \"\"\"\n",
    "    Converts a fraction of temps from Farenheit to Celsius\n",
    "    \"\"\"\n",
    "    weights = (self.celsius_weight, 100)\n",
    "    choices = [self.dummy_f_to_c, self.f_to_c]\n",
    "    converted_temps = []\n",
    "    for i in temps_to_convert:\n",
    "      func = random.choices(choices,cum_weights=weights)\n",
    "      converted_temps.append(func[0](i))\n",
    "    return converted_temps\n",
    "\n",
    "\n",
    "  # office building temps\n",
    "  def temperature_maker(self):\n",
    "    \"\"\"\n",
    "    Returns list of temps\n",
    "    \"\"\"\n",
    "    # Get distribution for temps\n",
    "    f_temps = [round(random.normalvariate(mu=68, sigma=3.0),2) for x in range(self.count)]\n",
    "    # Randomly add a number around 100, 0.5 percent of the time\n",
    "    # Convert arrays to numpy\n",
    "    f_temps_np = np.array(f_temps)\n",
    "    temp_adds_np = np.array(self.temp_adder())\n",
    "    # add temperatures\n",
    "    all_f_temps = f_temps_np + temp_adds_np\n",
    "    # Convert almost all to Celsius\n",
    "    # Convert out of np array to regular array\n",
    "    all_f_temps = list(all_f_temps)\n",
    "    all_c_temps = self.celsius_maker(temps_to_convert=all_f_temps)\n",
    "    return all_c_temps\n",
    "\n",
    "\n",
    "\n",
    "class GenerateDataFrame:\n",
    "   def __init__(self,\n",
    "                fraction_to_scramble=None,\n",
    "                **kwargs):\n",
    "     \"\"\"\n",
    "     Pass the functions that generate the dataframe columns\n",
    "     {<column name A>:<function that makes column>, }\n",
    "     \"\"\"\n",
    "     self.__dict__.update(kwargs)\n",
    "     self.fraction_to_scramble = fraction_to_scramble\n",
    "\n",
    "   def randomize_string(self,x):\n",
    "    \"\"\"\n",
    "    Function to randomize a string\n",
    "    \"\"\"\n",
    "    str_x = str(x)\n",
    "    l = list(str_x)\n",
    "    random.shuffle(l)\n",
    "    randomized_string = ''.join(l)\n",
    "    return randomized_string\n",
    "\n",
    "   def make_results(self):\n",
    "     \"\"\"\n",
    "     call all kwarg columns\n",
    "     \"\"\"\n",
    "     output = {}\n",
    "     for col_name, func in self.__dict__.items():\n",
    "       if col_name == 'fraction_to_scramble':\n",
    "        continue\n",
    "       else:\n",
    "        output[col_name] = func()\n",
    "     return output\n",
    "\n",
    "   def generate_raw_df(self):\n",
    "    # Call the column functions\n",
    "    column_data = self.make_results()\n",
    "    df =  pd.DataFrame.from_dict(column_data)\n",
    "    return df\n",
    "\n",
    "   def scrambler(self, df):\n",
    "    \"\"\"\n",
    "    Scramble a sample of the dataframe\n",
    "    \"\"\"\n",
    "    # number_to_scramble = int(len(df) * self.fraction_to_scramble)\n",
    "    # Take a sample from the dataframe without replacement\n",
    "    sample_to_scramble = df.sample(frac=self.fraction_to_scramble)\n",
    "    # drop the items pulled from the sample\n",
    "    df = df.drop(sample_to_scramble.index)\n",
    "    # apply the randomizer\n",
    "    for column in [* sample_to_scramble.columns]:\n",
    "      sample_to_scramble[column] = sample_to_scramble[column].apply(self.randomize_string)\n",
    "    # concat the scrambled data to the existing df\n",
    "    output = pd.concat([df,sample_to_scramble])\n",
    "    # Output the concatenated dataframe.\n",
    "    return output\n",
    "\n",
    "   def pipeline(self):\n",
    "     df = self.generate_raw_df()\n",
    "     scrambled_df = self.scrambler(df)\n",
    "     output = scrambled_df\n",
    "     return output\n",
    "\n",
    "\n",
    "\n",
    "\n",
    "\n"
   ]
  },
  {
   "cell_type": "code",
   "execution_count": 11,
   "metadata": {
    "id": "-fKgRRpDuV7e"
   },
   "outputs": [],
   "source": [
    "fakeCols = GenerateFakes(count=10000)\n",
    "# maker_objs = {\"date\": fakeCols.date_maker,\n",
    "#               \"city\": fakeCols.city_chooser,\n",
    "#               \"temp_c\": fakeCols.temperature_maker\n",
    "#               }\n",
    "dfMaker = GenerateDataFrame(fraction_to_scramble=0.01,\n",
    "                            date=fakeCols.date_maker,\n",
    "                            city=fakeCols.city_chooser,\n",
    "                            temp_c=fakeCols.temperature_maker)\n"
   ]
  },
  {
   "cell_type": "code",
   "execution_count": null,
   "metadata": {},
   "outputs": [],
   "source": [
    "dfMaker.temp_a"
   ]
  },
  {
   "cell_type": "code",
   "execution_count": 12,
   "metadata": {
    "colab": {
     "base_uri": "https://localhost:8080/"
    },
    "id": "rrNWfNgjw2db",
    "outputId": "8a9e46e3-d7f4-4b58-e389-3eee64937de3"
   },
   "outputs": [],
   "source": [
    "fake_data = dfMaker.pipeline()"
   ]
  },
  {
   "cell_type": "code",
   "execution_count": 13,
   "metadata": {},
   "outputs": [
    {
     "data": {
      "text/html": [
       "<div>\n",
       "<style scoped>\n",
       "    .dataframe tbody tr th:only-of-type {\n",
       "        vertical-align: middle;\n",
       "    }\n",
       "\n",
       "    .dataframe tbody tr th {\n",
       "        vertical-align: top;\n",
       "    }\n",
       "\n",
       "    .dataframe thead th {\n",
       "        text-align: right;\n",
       "    }\n",
       "</style>\n",
       "<table border=\"1\" class=\"dataframe\">\n",
       "  <thead>\n",
       "    <tr style=\"text-align: right;\">\n",
       "      <th></th>\n",
       "      <th>date</th>\n",
       "      <th>city</th>\n",
       "      <th>temp_c</th>\n",
       "    </tr>\n",
       "  </thead>\n",
       "  <tbody>\n",
       "    <tr>\n",
       "      <th>0</th>\n",
       "      <td>2013-12-04</td>\n",
       "      <td>Morgan Hill</td>\n",
       "      <td>20.544444</td>\n",
       "    </tr>\n",
       "    <tr>\n",
       "      <th>1</th>\n",
       "      <td>2018-10-24</td>\n",
       "      <td>San Leandro</td>\n",
       "      <td>19.738889</td>\n",
       "    </tr>\n",
       "    <tr>\n",
       "      <th>2</th>\n",
       "      <td>2022-09-03</td>\n",
       "      <td>San Jose</td>\n",
       "      <td>21.077778</td>\n",
       "    </tr>\n",
       "    <tr>\n",
       "      <th>3</th>\n",
       "      <td>2014-07-31</td>\n",
       "      <td>Richmond</td>\n",
       "      <td>18.222222</td>\n",
       "    </tr>\n",
       "    <tr>\n",
       "      <th>4</th>\n",
       "      <td>2015-02-07</td>\n",
       "      <td>San Jose</td>\n",
       "      <td>21.138889</td>\n",
       "    </tr>\n",
       "  </tbody>\n",
       "</table>\n",
       "</div>"
      ],
      "text/plain": [
       "         date         city     temp_c\n",
       "0  2013-12-04  Morgan Hill  20.544444\n",
       "1  2018-10-24  San Leandro  19.738889\n",
       "2  2022-09-03     San Jose  21.077778\n",
       "3  2014-07-31     Richmond  18.222222\n",
       "4  2015-02-07     San Jose  21.138889"
      ]
     },
     "execution_count": 13,
     "metadata": {},
     "output_type": "execute_result"
    }
   ],
   "source": [
    "fake_data.head()"
   ]
  },
  {
   "cell_type": "code",
   "execution_count": 15,
   "metadata": {
    "colab": {
     "base_uri": "https://localhost:8080/"
    },
    "id": "NIo4Epsud7n1",
    "outputId": "b8125c06-e282-4aa1-90b1-2e815e5e8368"
   },
   "outputs": [],
   "source": [
    "# Write fake data to an excel file\n",
    "output_file_name = 'temps.xlsx'\n",
    "current_dir_path = Path.cwd()\n",
    "path = Path(current_dir_path,output_file_name)\n",
    "fake_data.to_excel(path,\n",
    "                   sheet_name='Building Temps',\n",
    "                   float_format=\"%.2f\")"
   ]
  },
  {
   "cell_type": "code",
   "execution_count": null,
   "metadata": {
    "id": "DHsOEapJz-20"
   },
   "outputs": [],
   "source": []
  },
  {
   "cell_type": "code",
   "execution_count": null,
   "metadata": {
    "id": "cHfnpN7Drz2P"
   },
   "outputs": [],
   "source": []
  },
  {
   "cell_type": "code",
   "execution_count": null,
   "metadata": {
    "id": "dJvexed4jdro"
   },
   "outputs": [],
   "source": []
  },
  {
   "cell_type": "code",
   "execution_count": null,
   "metadata": {
    "id": "PpyoGoqQQ9kk"
   },
   "outputs": [],
   "source": []
  },
  {
   "cell_type": "code",
   "execution_count": null,
   "metadata": {
    "id": "VGa1klCFYNf5"
   },
   "outputs": [],
   "source": []
  },
  {
   "cell_type": "code",
   "execution_count": null,
   "metadata": {
    "id": "7mLeS4uHzBvp"
   },
   "outputs": [],
   "source": []
  }
 ],
 "metadata": {
  "colab": {
   "provenance": []
  },
  "kernelspec": {
   "display_name": "eda_ts",
   "language": "python",
   "name": "eda_ts"
  },
  "language_info": {
   "codemirror_mode": {
    "name": "ipython",
    "version": 3
   },
   "file_extension": ".py",
   "mimetype": "text/x-python",
   "name": "python",
   "nbconvert_exporter": "python",
   "pygments_lexer": "ipython3",
   "version": "3.10.11"
  }
 },
 "nbformat": 4,
 "nbformat_minor": 1
}
